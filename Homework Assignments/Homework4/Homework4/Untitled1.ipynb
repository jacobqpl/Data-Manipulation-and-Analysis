{
 "cells": [
  {
   "cell_type": "code",
   "execution_count": 44,
   "metadata": {},
   "outputs": [],
   "source": [
    "import math"
   ]
  },
  {
   "cell_type": "code",
   "execution_count": 47,
   "metadata": {},
   "outputs": [],
   "source": [
    "class Vector():\n",
    "    def __init__(self, dimension=0, entries=0):\n",
    "        self.dim=dimension\n",
    "        self.entr=entries\n",
    "        \n",
    "    def bool(self):\n",
    "        if not isinstance(self.dim, (int, float)):\n",
    "            raise  TpyeError\n",
    "        elif not isinstance(self.entr, (tuple, list)):\n",
    "            raise TypeError\n",
    "        else: \n",
    "            if self.dim<0:\n",
    "                raise ValueError\n",
    "                \n",
    "                if len(self.entr) !=int(self.dim):\n",
    "                    return False\n",
    "                else:\n",
    "                    return True\n",
    "                \n",
    "v=Vector(2, [2, 3])\n",
    "print(v)"
   ]
  },
  {
   "cell_type": "code",
   "execution_count": 14,
   "metadata": {},
   "outputs": [],
   "source": [
    "import math\n",
    "class Vector:\n",
    "    '''vector with a dimension (a non-negative integer) and a list or tuple of its entries'''\n",
    "    \n",
    "    def __init__(self,dim=0,entries=[]):\n",
    "        if not isinstance(dim,int):\n",
    "            raise TypeError('The dimension should be an integer!')\n",
    "        elif dim<0:\n",
    "            raise ValueError('The dimension should be non-negative!')\n",
    "        else:\n",
    "            if entries!=[]:\n",
    "                if len(entries)!=dim:\n",
    "                    raise ValueError('The dimension and the number of supplied entries disagree!')\n",
    "                else:\n",
    "                    self.dim=dim\n",
    "                    self.entries=entries\n",
    "            if entries==[]:\n",
    "                self.dim=dim\n",
    "                self.entries=[0]*self.dim"
   ]
  },
  {
   "cell_type": "code",
   "execution_count": 18,
   "metadata": {},
   "outputs": [
    {
     "name": "stdout",
     "output_type": "stream",
     "text": [
      "<__main__.Vector object at 0x7faad82aa280>\n"
     ]
    }
   ],
   "source": [
    "pq = Vector(2, [5, 8])\n",
    "print(pq)"
   ]
  },
  {
   "cell_type": "code",
   "execution_count": null,
   "metadata": {},
   "outputs": [],
   "source": []
  }
 ],
 "metadata": {
  "kernelspec": {
   "display_name": "Python 3",
   "language": "python",
   "name": "python3"
  },
  "language_info": {
   "codemirror_mode": {
    "name": "ipython",
    "version": 3
   },
   "file_extension": ".py",
   "mimetype": "text/x-python",
   "name": "python",
   "nbconvert_exporter": "python",
   "pygments_lexer": "ipython3",
   "version": "3.8.3"
  }
 },
 "nbformat": 4,
 "nbformat_minor": 4
}
