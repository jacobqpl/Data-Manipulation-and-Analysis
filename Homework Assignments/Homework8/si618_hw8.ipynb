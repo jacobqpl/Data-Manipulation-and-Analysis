{
 "cells": [
  {
   "cell_type": "markdown",
   "metadata": {
    "id": "UGqk3SzXsMR3"
   },
   "source": [
    "# SI 618 Homework 8"
   ]
  },
  {
   "cell_type": "markdown",
   "metadata": {
    "id": "pbqbtPreaCjs"
   },
   "source": [
    "### The total points for this assignment is 100"
   ]
  },
  {
   "cell_type": "markdown",
   "metadata": {
    "id": "Pr9WBUQyZY4V"
   },
   "source": [
    "## The data:\n",
    "\n",
    "* [https://www.kaggle.com/datasnaek/youtube-new](https://www.kaggle.com/datasnaek/youtube-new)\n",
    "\n",
    "> YouTube provides a list of trending videos on it's site, determined by user interaction metrics such as likes, comments, and views. This dataset includes months of daily trending video across five different regions: the United States (\"US\"), Canada (\"CA\"), Great Britain (\"GB\"), Germany (\"DE\"), and France (\"FR\").\n",
    "\n",
    "* https://www.kaggle.com/abcsds/pokemon\n",
    "\n",
    "> This data set includes 721 Pokemon, including their number, name, first and second type, and basic stats: HP, Attack, Defense, Special Attack, Special Defense, and Speed."
   ]
  },
  {
   "cell_type": "markdown",
   "metadata": {
    "id": "8EV1PilWtl0Z"
   },
   "source": [
    "## Part 1: Youtube Data\n",
    "(https://www.kaggle.com/datasnaek/youtube-new)*\n",
    "- Show code\n",
    "- <b>Explain your answers </b>"
   ]
  },
  {
   "cell_type": "markdown",
   "metadata": {
    "id": "7n5ybXFQcR-g"
   },
   "source": [
    "###   Q1. For 20 Points: Compare the distributions of comments, views, likes, and dislikes\n",
    "\n",
    "* Plot histograms for these metrics *for the US*. What can you say about them? (in 1-2 sentences)\n",
    "* Try to apply a log transformation, and plot the histograms again. How do they look now? (in 1-2 sentences)\n",
    "* Create a pairplot *for the US*, as we did in this week's lab. Do you see anything interesting? (in 1-2 sentences)\n",
    "* Create additional pairplots for the other four regions. Do they look similar?\n",
    "\n",
    "In total, you should have a short paragraph of about 4-6 sentences.\n"
   ]
  },
  {
   "cell_type": "code",
   "execution_count": null,
   "metadata": {
    "id": "wbKEsthVLqIi"
   },
   "outputs": [],
   "source": [
    "import pandas as pd\n",
    "import numpy as np\n",
    "import matplotlib.pyplot as plt\n",
    "import seaborn as sns\n",
    "from io import StringIO"
   ]
  },
  {
   "cell_type": "markdown",
   "metadata": {
    "id": "lwumWcqTcMCs"
   },
   "source": [
    "### Q2. For 15 Points: Create a heatmap of correlations between likes, dislikes, comment count and views\n",
    "\n",
    ">A [heat map (or heatmap)](https://en.wikipedia.org/wiki/Heat_map) is a graphical representation of data where the individual values contained in a matrix are represented as colors.\n",
    "\n",
    "Seaborn makes it easy to create a heatmap with [`seaborn.heatmap()`](https://seaborn.pydata.org/generated/seaborn.heatmap.html)\n",
    "\n",
    "* Create a correlation matrix for your numeric variables using Pandas with [`DataFrame.corr()`](https://pandas.pydata.org/pandas-docs/stable/generated/pandas.DataFrame.corr.html). That is, if your dataframe is called `df`, use `df.corr()`.\n",
    "* Pass in your correlation matrix to `seaborn.heatmap()`, and annotate it with the parameter `annot=True`.\n",
    "* Are there any interesting correlations? What are they? Please explain in 2-3 sentences!"
   ]
  },
  {
   "cell_type": "markdown",
   "metadata": {
    "id": "yWgoOgkTLqJO"
   },
   "source": [
    "### Q3. For 20 points: Create and compare OLS models using variables of your choice, for a region of your choice\n",
    "* Use statsmodels to perform an ANOVA (categorical regression) of a variable of your choice as the dependent variable (for example, views) and the video category as the independent variable. \n",
    "* Provide your interpretation of the results. \n",
    "* Create two different regression models where the dependent variables are the same, and the independent variables are different. What does your interpretation say about the two models?"
   ]
  },
  {
   "cell_type": "code",
   "execution_count": null,
   "metadata": {
    "id": "GneWWgFVt62N"
   },
   "outputs": [],
   "source": [
    "import statsmodels.api as sm\n",
    "import statsmodels.formula.api as smf"
   ]
  },
  {
   "cell_type": "markdown",
   "metadata": {
    "id": "cfiw8t5ez-Vo"
   },
   "source": [
    "## Part 2: Answer the questions below based on the *[Pokémon dataset](https://www.kaggle.com/abcsds/pokemon)* </span>\n",
    "- Show your code\n",
    "- <b>Explain your answer <b>. "
   ]
  },
  {
   "cell_type": "markdown",
   "metadata": {
    "id": "0u5VM5ksbCTm"
   },
   "source": [
    "### Q4. For 15 Points: Plot the pairs of different ability points (HP, Attack, Sp. Attack, Defense, etc.). \n",
    "\n",
    "* Which pairs have the most/least correlation coefficients?"
   ]
  },
  {
   "cell_type": "markdown",
   "metadata": {
    "id": "PfjXDtHoabcS"
   },
   "source": [
    "###  Q5. For 15 Points: Plot the distribution of ability points per Pokémon type \n",
    "\n",
    "* How would you describe each Pokémon type with different ability points? For simplicity, let's focus solely on pokemon that are type 1 (non-dual type pokemon)"
   ]
  },
  {
   "cell_type": "markdown",
   "metadata": {
    "id": "2wH5ikUcbb16"
   },
   "source": [
    "### Q6. For 15 Points: Explore how the Pokémon in each generation differ from each other?\n",
    "\n",
    "* Do you think designers of *Pokémon* tried to address different distributions of ability points in each generation?\n",
    "* Plot the distributions of abilities in different generations. Compare the results and explain your findings in 4-5 sentences."
   ]
  }
 ],
 "metadata": {
  "colab": {
   "collapsed_sections": [],
   "name": "si618_hw8_solution.ipynb",
   "provenance": []
  },
  "kernelspec": {
   "display_name": "Python 3",
   "language": "python",
   "name": "python3"
  },
  "language_info": {
   "codemirror_mode": {
    "name": "ipython",
    "version": 3
   },
   "file_extension": ".py",
   "mimetype": "text/x-python",
   "name": "python",
   "nbconvert_exporter": "python",
   "pygments_lexer": "ipython3",
   "version": "3.8.3"
  }
 },
 "nbformat": 4,
 "nbformat_minor": 1
}
