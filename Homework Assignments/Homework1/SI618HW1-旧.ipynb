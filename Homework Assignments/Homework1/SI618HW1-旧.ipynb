{
 "cells": [
  {
   "cell_type": "markdown",
   "metadata": {},
   "source": [
    "# SI 618 Homework 1"
   ]
  },
  {
   "cell_type": "markdown",
   "metadata": {},
   "source": [
    "## Introduction: (5 points)"
   ]
  },
  {
   "cell_type": "markdown",
   "metadata": {},
   "source": [
    "### Q1: Mount drive and change directory to where ‘book_data.csv’ is located (0.5 point)"
   ]
  },
  {
   "cell_type": "code",
   "execution_count": 3,
   "metadata": {},
   "outputs": [
    {
     "name": "stdout",
     "output_type": "stream",
     "text": [
      "/Users/peilinqiu/Desktop/Python/SI618/Homework Assignments/Homework1/Homework1\n"
     ]
    }
   ],
   "source": [
    "# 查看目前的工作路径\n",
    "import os\n",
    "path = os.getcwd()\n",
    "print(path)"
   ]
  },
  {
   "cell_type": "code",
   "execution_count": 4,
   "metadata": {},
   "outputs": [
    {
     "name": "stdout",
     "output_type": "stream",
     "text": [
      "/Users/peilinqiu/Desktop/Python/SI618/Homework Assignments/Homework1/Homework1\n"
     ]
    }
   ],
   "source": [
    "# 更改当前工作路径\n",
    "os.chdir('/Users/peilinqiu/Desktop/Python/SI618/Homework Assignments/Homework1/Homework1')\n",
    "print(os.getcwd())"
   ]
  },
  {
   "cell_type": "markdown",
   "metadata": {},
   "source": [
    "### Q2: Load the dataset. (0.5 point)"
   ]
  },
  {
   "cell_type": "code",
   "execution_count": 5,
   "metadata": {},
   "outputs": [],
   "source": [
    "import pandas as pd\n",
    "import numpy as np"
   ]
  },
  {
   "cell_type": "code",
   "execution_count": 6,
   "metadata": {},
   "outputs": [],
   "source": [
    "book_data=pd.read_csv(\"book_data.csv\")"
   ]
  },
  {
   "cell_type": "code",
   "execution_count": 7,
   "metadata": {},
   "outputs": [
    {
     "data": {
      "text/html": [
       "<div>\n",
       "<style scoped>\n",
       "    .dataframe tbody tr th:only-of-type {\n",
       "        vertical-align: middle;\n",
       "    }\n",
       "\n",
       "    .dataframe tbody tr th {\n",
       "        vertical-align: top;\n",
       "    }\n",
       "\n",
       "    .dataframe thead th {\n",
       "        text-align: right;\n",
       "    }\n",
       "</style>\n",
       "<table border=\"1\" class=\"dataframe\">\n",
       "  <thead>\n",
       "    <tr style=\"text-align: right;\">\n",
       "      <th></th>\n",
       "      <th>book_authors</th>\n",
       "      <th>book_desc</th>\n",
       "      <th>book_edition</th>\n",
       "      <th>book_format</th>\n",
       "      <th>book_isbn</th>\n",
       "      <th>book_pages</th>\n",
       "      <th>book_rating</th>\n",
       "      <th>book_rating_count</th>\n",
       "      <th>book_review_count</th>\n",
       "      <th>book_title</th>\n",
       "      <th>genres</th>\n",
       "      <th>image_url</th>\n",
       "    </tr>\n",
       "  </thead>\n",
       "  <tbody>\n",
       "    <tr>\n",
       "      <th>0</th>\n",
       "      <td>Kristin Hannah</td>\n",
       "      <td>Alaska, 1974.Unpredictable. Unforgiving. Untam...</td>\n",
       "      <td>NaN</td>\n",
       "      <td>Kindle Edition</td>\n",
       "      <td>NaN</td>\n",
       "      <td>435 pages</td>\n",
       "      <td>4.33</td>\n",
       "      <td>146505</td>\n",
       "      <td>17438</td>\n",
       "      <td>The Great Alone</td>\n",
       "      <td>Fiction|Historical|Historical Fiction|Audioboo...</td>\n",
       "      <td>https://images.gr-assets.com/books/1501852423l...</td>\n",
       "    </tr>\n",
       "    <tr>\n",
       "      <th>1</th>\n",
       "      <td>Madeline Miller</td>\n",
       "      <td>In the house of Helios, god of the sun and mig...</td>\n",
       "      <td>NaN</td>\n",
       "      <td>Hardcover</td>\n",
       "      <td>9.780000e+12</td>\n",
       "      <td>393 pages</td>\n",
       "      <td>4.34</td>\n",
       "      <td>61357</td>\n",
       "      <td>9369</td>\n",
       "      <td>Circe</td>\n",
       "      <td>Fantasy|Fiction|Fantasy|Mythology|Historical|H...</td>\n",
       "      <td>https://images.gr-assets.com/books/1508879575l...</td>\n",
       "    </tr>\n",
       "    <tr>\n",
       "      <th>2</th>\n",
       "      <td>Holly Black</td>\n",
       "      <td>Of course I want to be like them. They’re beau...</td>\n",
       "      <td>NaN</td>\n",
       "      <td>Hardcover</td>\n",
       "      <td>9.780000e+12</td>\n",
       "      <td>370 pages</td>\n",
       "      <td>4.18</td>\n",
       "      <td>62897</td>\n",
       "      <td>11948</td>\n",
       "      <td>The Cruel Prince</td>\n",
       "      <td>Fantasy|Young Adult|Fairies|Fae</td>\n",
       "      <td>https://images.gr-assets.com/books/1493047153l...</td>\n",
       "    </tr>\n",
       "    <tr>\n",
       "      <th>3</th>\n",
       "      <td>A.J. Finn</td>\n",
       "      <td>Anna Fox lives alone—a recluse in her New York...</td>\n",
       "      <td>NaN</td>\n",
       "      <td>Kindle Edition</td>\n",
       "      <td>NaN</td>\n",
       "      <td>449 pages</td>\n",
       "      <td>3.97</td>\n",
       "      <td>175678</td>\n",
       "      <td>20645</td>\n",
       "      <td>The Woman in the Window</td>\n",
       "      <td>Mystery|Thriller|Fiction|Suspense|Thriller|Mys...</td>\n",
       "      <td>https://images.gr-assets.com/books/1528225499l...</td>\n",
       "    </tr>\n",
       "    <tr>\n",
       "      <th>4</th>\n",
       "      <td>Tara Westover</td>\n",
       "      <td>An unforgettable memoir in the tradition of Th...</td>\n",
       "      <td>NaN</td>\n",
       "      <td>Hardcover</td>\n",
       "      <td>9.780000e+12</td>\n",
       "      <td>334 pages</td>\n",
       "      <td>4.47</td>\n",
       "      <td>128337</td>\n",
       "      <td>16424</td>\n",
       "      <td>Educated</td>\n",
       "      <td>Nonfiction|Autobiography|Memoir|Biography</td>\n",
       "      <td>https://images.gr-assets.com/books/1506026635l...</td>\n",
       "    </tr>\n",
       "  </tbody>\n",
       "</table>\n",
       "</div>"
      ],
      "text/plain": [
       "      book_authors                                          book_desc  \\\n",
       "0   Kristin Hannah  Alaska, 1974.Unpredictable. Unforgiving. Untam...   \n",
       "1  Madeline Miller  In the house of Helios, god of the sun and mig...   \n",
       "2      Holly Black  Of course I want to be like them. They’re beau...   \n",
       "3        A.J. Finn  Anna Fox lives alone—a recluse in her New York...   \n",
       "4    Tara Westover  An unforgettable memoir in the tradition of Th...   \n",
       "\n",
       "  book_edition     book_format     book_isbn book_pages  book_rating  \\\n",
       "0          NaN  Kindle Edition           NaN  435 pages         4.33   \n",
       "1          NaN       Hardcover  9.780000e+12  393 pages         4.34   \n",
       "2          NaN       Hardcover  9.780000e+12  370 pages         4.18   \n",
       "3          NaN  Kindle Edition           NaN  449 pages         3.97   \n",
       "4          NaN       Hardcover  9.780000e+12  334 pages         4.47   \n",
       "\n",
       "   book_rating_count  book_review_count               book_title  \\\n",
       "0             146505              17438          The Great Alone   \n",
       "1              61357               9369                    Circe   \n",
       "2              62897              11948         The Cruel Prince   \n",
       "3             175678              20645  The Woman in the Window   \n",
       "4             128337              16424                 Educated   \n",
       "\n",
       "                                              genres  \\\n",
       "0  Fiction|Historical|Historical Fiction|Audioboo...   \n",
       "1  Fantasy|Fiction|Fantasy|Mythology|Historical|H...   \n",
       "2                    Fantasy|Young Adult|Fairies|Fae   \n",
       "3  Mystery|Thriller|Fiction|Suspense|Thriller|Mys...   \n",
       "4          Nonfiction|Autobiography|Memoir|Biography   \n",
       "\n",
       "                                           image_url  \n",
       "0  https://images.gr-assets.com/books/1501852423l...  \n",
       "1  https://images.gr-assets.com/books/1508879575l...  \n",
       "2  https://images.gr-assets.com/books/1493047153l...  \n",
       "3  https://images.gr-assets.com/books/1528225499l...  \n",
       "4  https://images.gr-assets.com/books/1506026635l...  "
      ]
     },
     "execution_count": 7,
     "metadata": {},
     "output_type": "execute_result"
    }
   ],
   "source": [
    "book_data.head()"
   ]
  },
  {
   "cell_type": "markdown",
   "metadata": {},
   "source": [
    "### Q3: How many books are there? (2 points)"
   ]
  },
  {
   "cell_type": "code",
   "execution_count": 8,
   "metadata": {},
   "outputs": [
    {
     "data": {
      "text/plain": [
       "book_title    1141\n",
       "dtype: int64"
      ]
     },
     "execution_count": 8,
     "metadata": {},
     "output_type": "execute_result"
    }
   ],
   "source": [
    "# 查询具体某一列的count\n",
    "book_data[['book_title']].count()"
   ]
  },
  {
   "cell_type": "code",
   "execution_count": 9,
   "metadata": {},
   "outputs": [
    {
     "data": {
      "text/plain": [
       "book_authors         1141\n",
       "book_desc            1136\n",
       "book_edition          105\n",
       "book_format          1107\n",
       "book_isbn             691\n",
       "book_pages           1071\n",
       "book_rating          1141\n",
       "book_rating_count    1141\n",
       "book_review_count    1141\n",
       "book_title           1141\n",
       "genres               1130\n",
       "image_url            1137\n",
       "dtype: int64"
      ]
     },
     "execution_count": 9,
     "metadata": {},
     "output_type": "execute_result"
    }
   ],
   "source": [
    "# 查询所有列分别的count\n",
    "book_data.count()"
   ]
  },
  {
   "cell_type": "markdown",
   "metadata": {},
   "source": [
    "### Q4: How many books have more than 1 author? (2 points)"
   ]
  },
  {
   "cell_type": "code",
   "execution_count": 226,
   "metadata": {},
   "outputs": [],
   "source": [
    "## 仇培林答案\n",
    "author_num = book_data['book_authors'].str.split('|', expand=True).stack().value_counts()"
   ]
  },
  {
   "cell_type": "code",
   "execution_count": 227,
   "metadata": {},
   "outputs": [
    {
     "data": {
      "text/plain": [
       "K.  Webster                  15\n",
       "Samantha Chase                6\n",
       "Penny Reid                    5\n",
       "Stephen King                  5\n",
       "Vi Keeland                    5\n",
       "                             ..\n",
       "Mary H.K. Choi                1\n",
       "Florence Gonsalves            1\n",
       "Catherynne M. Valente         1\n",
       "Wendy Heard                   1\n",
       "Jennifer Zeynab Joukhadar     1\n",
       "Length: 1212, dtype: int64"
      ]
     },
     "execution_count": 227,
     "metadata": {},
     "output_type": "execute_result"
    }
   ],
   "source": [
    "author_num"
   ]
  },
  {
   "cell_type": "code",
   "execution_count": 228,
   "metadata": {},
   "outputs": [
    {
     "data": {
      "text/plain": [
       "K.  Webster        15\n",
       "Samantha Chase      6\n",
       "Penny Reid          5\n",
       "Stephen King        5\n",
       "Vi Keeland          5\n",
       "Penelope Ward       5\n",
       "Mike Mignola        5\n",
       "Tijan               4\n",
       "Jill Shalvis        4\n",
       "N.R. Walker         4\n",
       "M.A. Innes          4\n",
       "James Patterson     4\n",
       "Julie Mulhern       4\n",
       "Stuart Woods        4\n",
       "Karina Halle        4\n",
       "dtype: int64"
      ]
     },
     "execution_count": 228,
     "metadata": {},
     "output_type": "execute_result"
    }
   ],
   "source": [
    "author_num.head(15)"
   ]
  },
  {
   "cell_type": "code",
   "execution_count": 229,
   "metadata": {},
   "outputs": [
    {
     "data": {
      "text/plain": [
       "162"
      ]
     },
     "execution_count": 229,
     "metadata": {},
     "output_type": "execute_result"
    }
   ],
   "source": [
    "author_num[author_num > 1].count() "
   ]
  },
  {
   "cell_type": "code",
   "execution_count": 10,
   "metadata": {},
   "outputs": [
    {
     "data": {
      "text/html": [
       "<div>\n",
       "<style scoped>\n",
       "    .dataframe tbody tr th:only-of-type {\n",
       "        vertical-align: middle;\n",
       "    }\n",
       "\n",
       "    .dataframe tbody tr th {\n",
       "        vertical-align: top;\n",
       "    }\n",
       "\n",
       "    .dataframe thead th {\n",
       "        text-align: right;\n",
       "    }\n",
       "</style>\n",
       "<table border=\"1\" class=\"dataframe\">\n",
       "  <thead>\n",
       "    <tr style=\"text-align: right;\">\n",
       "      <th></th>\n",
       "      <th>book_authors</th>\n",
       "      <th>book_desc</th>\n",
       "      <th>book_edition</th>\n",
       "      <th>book_format</th>\n",
       "      <th>book_isbn</th>\n",
       "      <th>book_pages</th>\n",
       "      <th>book_rating</th>\n",
       "      <th>book_rating_count</th>\n",
       "      <th>book_review_count</th>\n",
       "      <th>book_title</th>\n",
       "      <th>genres</th>\n",
       "      <th>image_url</th>\n",
       "      <th>author_num</th>\n",
       "    </tr>\n",
       "  </thead>\n",
       "  <tbody>\n",
       "    <tr>\n",
       "      <th>0</th>\n",
       "      <td>Kristin Hannah</td>\n",
       "      <td>Alaska, 1974.Unpredictable. Unforgiving. Untam...</td>\n",
       "      <td>NaN</td>\n",
       "      <td>Kindle Edition</td>\n",
       "      <td>NaN</td>\n",
       "      <td>435 pages</td>\n",
       "      <td>4.33</td>\n",
       "      <td>146505</td>\n",
       "      <td>17438</td>\n",
       "      <td>The Great Alone</td>\n",
       "      <td>Fiction|Historical|Historical Fiction|Audioboo...</td>\n",
       "      <td>https://images.gr-assets.com/books/1501852423l...</td>\n",
       "      <td>1</td>\n",
       "    </tr>\n",
       "    <tr>\n",
       "      <th>1</th>\n",
       "      <td>Madeline Miller</td>\n",
       "      <td>In the house of Helios, god of the sun and mig...</td>\n",
       "      <td>NaN</td>\n",
       "      <td>Hardcover</td>\n",
       "      <td>9.780000e+12</td>\n",
       "      <td>393 pages</td>\n",
       "      <td>4.34</td>\n",
       "      <td>61357</td>\n",
       "      <td>9369</td>\n",
       "      <td>Circe</td>\n",
       "      <td>Fantasy|Fiction|Fantasy|Mythology|Historical|H...</td>\n",
       "      <td>https://images.gr-assets.com/books/1508879575l...</td>\n",
       "      <td>1</td>\n",
       "    </tr>\n",
       "    <tr>\n",
       "      <th>2</th>\n",
       "      <td>Holly Black</td>\n",
       "      <td>Of course I want to be like them. They’re beau...</td>\n",
       "      <td>NaN</td>\n",
       "      <td>Hardcover</td>\n",
       "      <td>9.780000e+12</td>\n",
       "      <td>370 pages</td>\n",
       "      <td>4.18</td>\n",
       "      <td>62897</td>\n",
       "      <td>11948</td>\n",
       "      <td>The Cruel Prince</td>\n",
       "      <td>Fantasy|Young Adult|Fairies|Fae</td>\n",
       "      <td>https://images.gr-assets.com/books/1493047153l...</td>\n",
       "      <td>1</td>\n",
       "    </tr>\n",
       "    <tr>\n",
       "      <th>3</th>\n",
       "      <td>A.J. Finn</td>\n",
       "      <td>Anna Fox lives alone—a recluse in her New York...</td>\n",
       "      <td>NaN</td>\n",
       "      <td>Kindle Edition</td>\n",
       "      <td>NaN</td>\n",
       "      <td>449 pages</td>\n",
       "      <td>3.97</td>\n",
       "      <td>175678</td>\n",
       "      <td>20645</td>\n",
       "      <td>The Woman in the Window</td>\n",
       "      <td>Mystery|Thriller|Fiction|Suspense|Thriller|Mys...</td>\n",
       "      <td>https://images.gr-assets.com/books/1528225499l...</td>\n",
       "      <td>1</td>\n",
       "    </tr>\n",
       "    <tr>\n",
       "      <th>4</th>\n",
       "      <td>Tara Westover</td>\n",
       "      <td>An unforgettable memoir in the tradition of Th...</td>\n",
       "      <td>NaN</td>\n",
       "      <td>Hardcover</td>\n",
       "      <td>9.780000e+12</td>\n",
       "      <td>334 pages</td>\n",
       "      <td>4.47</td>\n",
       "      <td>128337</td>\n",
       "      <td>16424</td>\n",
       "      <td>Educated</td>\n",
       "      <td>Nonfiction|Autobiography|Memoir|Biography</td>\n",
       "      <td>https://images.gr-assets.com/books/1506026635l...</td>\n",
       "      <td>1</td>\n",
       "    </tr>\n",
       "    <tr>\n",
       "      <th>5</th>\n",
       "      <td>Tomi Adeyemi</td>\n",
       "      <td>They killed my mother.They took our magic.They...</td>\n",
       "      <td>NaN</td>\n",
       "      <td>Hardcover</td>\n",
       "      <td>9.780000e+12</td>\n",
       "      <td>525 pages</td>\n",
       "      <td>4.25</td>\n",
       "      <td>56789</td>\n",
       "      <td>12046</td>\n",
       "      <td>Children of Blood and Bone</td>\n",
       "      <td>Fantasy|Young Adult|Fiction</td>\n",
       "      <td>https://images.gr-assets.com/books/1516127989l...</td>\n",
       "      <td>1</td>\n",
       "    </tr>\n",
       "    <tr>\n",
       "      <th>6</th>\n",
       "      <td>Tayari Jones</td>\n",
       "      <td>Newlyweds Celestial and Roy are the embodiment...</td>\n",
       "      <td>NaN</td>\n",
       "      <td>Hardcover</td>\n",
       "      <td>9.780000e+12</td>\n",
       "      <td>308 pages</td>\n",
       "      <td>4.01</td>\n",
       "      <td>91515</td>\n",
       "      <td>9836</td>\n",
       "      <td>An American Marriage</td>\n",
       "      <td>Fiction|Contemporary|Audiobook</td>\n",
       "      <td>https://images.gr-assets.com/books/1491493625l...</td>\n",
       "      <td>1</td>\n",
       "    </tr>\n",
       "    <tr>\n",
       "      <th>7</th>\n",
       "      <td>Michelle McNamara|Gillian Flynn|Patton Oswalt</td>\n",
       "      <td>A masterful true crime account of the Golden S...</td>\n",
       "      <td>NaN</td>\n",
       "      <td>ebook</td>\n",
       "      <td>9.780000e+12</td>\n",
       "      <td>352 pages</td>\n",
       "      <td>4.22</td>\n",
       "      <td>60784</td>\n",
       "      <td>7148</td>\n",
       "      <td>I'll Be Gone in the Dark: One Woman's Obsessiv...</td>\n",
       "      <td>Nonfiction|Crime|True Crime|Mystery|Crime|Myst...</td>\n",
       "      <td>https://images.gr-assets.com/books/1499131009l...</td>\n",
       "      <td>3</td>\n",
       "    </tr>\n",
       "    <tr>\n",
       "      <th>8</th>\n",
       "      <td>Greer Hendricks|Sarah Pekkanen</td>\n",
       "      <td>When you read this book, you will make many as...</td>\n",
       "      <td>NaN</td>\n",
       "      <td>Hardcover</td>\n",
       "      <td>9.780000e+12</td>\n",
       "      <td>346 pages</td>\n",
       "      <td>3.85</td>\n",
       "      <td>89835</td>\n",
       "      <td>11331</td>\n",
       "      <td>The Wife Between Us</td>\n",
       "      <td>Thriller|Fiction|Mystery|Suspense|Thriller|Mys...</td>\n",
       "      <td>https://images.gr-assets.com/books/1496862122l...</td>\n",
       "      <td>2</td>\n",
       "    </tr>\n",
       "    <tr>\n",
       "      <th>9</th>\n",
       "      <td>Neal Shusterman</td>\n",
       "      <td>Rowan has gone rogue, and has taken it upon hi...</td>\n",
       "      <td>NaN</td>\n",
       "      <td>Hardcover</td>\n",
       "      <td>9.780000e+12</td>\n",
       "      <td>504 pages</td>\n",
       "      <td>4.53</td>\n",
       "      <td>22823</td>\n",
       "      <td>4620</td>\n",
       "      <td>Thunderhead</td>\n",
       "      <td>Young Adult|Science Fiction|Science Fiction|Dy...</td>\n",
       "      <td>https://images.gr-assets.com/books/1505658534l...</td>\n",
       "      <td>1</td>\n",
       "    </tr>\n",
       "  </tbody>\n",
       "</table>\n",
       "</div>"
      ],
      "text/plain": [
       "                                    book_authors  \\\n",
       "0                                 Kristin Hannah   \n",
       "1                                Madeline Miller   \n",
       "2                                    Holly Black   \n",
       "3                                      A.J. Finn   \n",
       "4                                  Tara Westover   \n",
       "5                                   Tomi Adeyemi   \n",
       "6                                   Tayari Jones   \n",
       "7  Michelle McNamara|Gillian Flynn|Patton Oswalt   \n",
       "8                 Greer Hendricks|Sarah Pekkanen   \n",
       "9                                Neal Shusterman   \n",
       "\n",
       "                                           book_desc book_edition  \\\n",
       "0  Alaska, 1974.Unpredictable. Unforgiving. Untam...          NaN   \n",
       "1  In the house of Helios, god of the sun and mig...          NaN   \n",
       "2  Of course I want to be like them. They’re beau...          NaN   \n",
       "3  Anna Fox lives alone—a recluse in her New York...          NaN   \n",
       "4  An unforgettable memoir in the tradition of Th...          NaN   \n",
       "5  They killed my mother.They took our magic.They...          NaN   \n",
       "6  Newlyweds Celestial and Roy are the embodiment...          NaN   \n",
       "7  A masterful true crime account of the Golden S...          NaN   \n",
       "8  When you read this book, you will make many as...          NaN   \n",
       "9  Rowan has gone rogue, and has taken it upon hi...          NaN   \n",
       "\n",
       "      book_format     book_isbn book_pages  book_rating  book_rating_count  \\\n",
       "0  Kindle Edition           NaN  435 pages         4.33             146505   \n",
       "1       Hardcover  9.780000e+12  393 pages         4.34              61357   \n",
       "2       Hardcover  9.780000e+12  370 pages         4.18              62897   \n",
       "3  Kindle Edition           NaN  449 pages         3.97             175678   \n",
       "4       Hardcover  9.780000e+12  334 pages         4.47             128337   \n",
       "5       Hardcover  9.780000e+12  525 pages         4.25              56789   \n",
       "6       Hardcover  9.780000e+12  308 pages         4.01              91515   \n",
       "7           ebook  9.780000e+12  352 pages         4.22              60784   \n",
       "8       Hardcover  9.780000e+12  346 pages         3.85              89835   \n",
       "9       Hardcover  9.780000e+12  504 pages         4.53              22823   \n",
       "\n",
       "   book_review_count                                         book_title  \\\n",
       "0              17438                                    The Great Alone   \n",
       "1               9369                                              Circe   \n",
       "2              11948                                   The Cruel Prince   \n",
       "3              20645                            The Woman in the Window   \n",
       "4              16424                                           Educated   \n",
       "5              12046                         Children of Blood and Bone   \n",
       "6               9836                               An American Marriage   \n",
       "7               7148  I'll Be Gone in the Dark: One Woman's Obsessiv...   \n",
       "8              11331                                The Wife Between Us   \n",
       "9               4620                                        Thunderhead   \n",
       "\n",
       "                                              genres  \\\n",
       "0  Fiction|Historical|Historical Fiction|Audioboo...   \n",
       "1  Fantasy|Fiction|Fantasy|Mythology|Historical|H...   \n",
       "2                    Fantasy|Young Adult|Fairies|Fae   \n",
       "3  Mystery|Thriller|Fiction|Suspense|Thriller|Mys...   \n",
       "4          Nonfiction|Autobiography|Memoir|Biography   \n",
       "5                        Fantasy|Young Adult|Fiction   \n",
       "6                     Fiction|Contemporary|Audiobook   \n",
       "7  Nonfiction|Crime|True Crime|Mystery|Crime|Myst...   \n",
       "8  Thriller|Fiction|Mystery|Suspense|Thriller|Mys...   \n",
       "9  Young Adult|Science Fiction|Science Fiction|Dy...   \n",
       "\n",
       "                                           image_url  author_num  \n",
       "0  https://images.gr-assets.com/books/1501852423l...           1  \n",
       "1  https://images.gr-assets.com/books/1508879575l...           1  \n",
       "2  https://images.gr-assets.com/books/1493047153l...           1  \n",
       "3  https://images.gr-assets.com/books/1528225499l...           1  \n",
       "4  https://images.gr-assets.com/books/1506026635l...           1  \n",
       "5  https://images.gr-assets.com/books/1516127989l...           1  \n",
       "6  https://images.gr-assets.com/books/1491493625l...           1  \n",
       "7  https://images.gr-assets.com/books/1499131009l...           3  \n",
       "8  https://images.gr-assets.com/books/1496862122l...           2  \n",
       "9  https://images.gr-assets.com/books/1505658534l...           1  "
      ]
     },
     "execution_count": 10,
     "metadata": {},
     "output_type": "execute_result"
    }
   ],
   "source": [
    "## 杨丹亭答案\n",
    "book_data['author_num'] = book_data['book_authors'].apply(lambda x: x.count('|')+1)\n",
    "book_data.head(10)"
   ]
  },
  {
   "cell_type": "code",
   "execution_count": 18,
   "metadata": {},
   "outputs": [],
   "source": [
    "book_data.to_excel('book_data.xlsx', index = None, header=True)"
   ]
  },
  {
   "cell_type": "code",
   "execution_count": 15,
   "metadata": {},
   "outputs": [
    {
     "data": {
      "text/plain": [
       "False    997\n",
       "True     144\n",
       "Name: author_num, dtype: int64"
      ]
     },
     "execution_count": 15,
     "metadata": {},
     "output_type": "execute_result"
    }
   ],
   "source": [
    "num = book_data['author_num'] > 1\n",
    "num.value_counts()"
   ]
  },
  {
   "cell_type": "markdown",
   "metadata": {},
   "source": [
    "## Length: (30 points)"
   ]
  },
  {
   "cell_type": "markdown",
   "metadata": {},
   "source": [
    "### Q5: You will want to create a new column with the integer value of the number of pages (15 points)"
   ]
  },
  {
   "cell_type": "code",
   "execution_count": 230,
   "metadata": {},
   "outputs": [
    {
     "data": {
      "text/plain": [
       "book_authors          object\n",
       "book_desc             object\n",
       "book_edition          object\n",
       "book_format           object\n",
       "book_isbn            float64\n",
       "book_pages            object\n",
       "book_rating          float64\n",
       "book_rating_count      int64\n",
       "book_review_count      int64\n",
       "book_title            object\n",
       "genres                object\n",
       "image_url             object\n",
       "dtype: object"
      ]
     },
     "execution_count": 230,
     "metadata": {},
     "output_type": "execute_result"
    }
   ],
   "source": [
    "book_data.dtypes"
   ]
  },
  {
   "cell_type": "code",
   "execution_count": 231,
   "metadata": {},
   "outputs": [
    {
     "data": {
      "text/plain": [
       "0       435 pages\n",
       "1       393 pages\n",
       "2       370 pages\n",
       "3       449 pages\n",
       "4       334 pages\n",
       "          ...    \n",
       "1136    304 pages\n",
       "1137    417 pages\n",
       "1138    320 pages\n",
       "1139    419 pages\n",
       "1140    304 pages\n",
       "Name: book_pages, Length: 1141, dtype: object"
      ]
     },
     "execution_count": 231,
     "metadata": {},
     "output_type": "execute_result"
    }
   ],
   "source": [
    "book_data['book_pages'].astype(str)"
   ]
  },
  {
   "cell_type": "code",
   "execution_count": 232,
   "metadata": {},
   "outputs": [],
   "source": [
    "book_data['book_pages'] = book_data.book_pages.str.replace(r\"[a-zA-Z]\",'')"
   ]
  },
  {
   "cell_type": "code",
   "execution_count": 233,
   "metadata": {},
   "outputs": [
    {
     "data": {
      "text/html": [
       "<div>\n",
       "<style scoped>\n",
       "    .dataframe tbody tr th:only-of-type {\n",
       "        vertical-align: middle;\n",
       "    }\n",
       "\n",
       "    .dataframe tbody tr th {\n",
       "        vertical-align: top;\n",
       "    }\n",
       "\n",
       "    .dataframe thead th {\n",
       "        text-align: right;\n",
       "    }\n",
       "</style>\n",
       "<table border=\"1\" class=\"dataframe\">\n",
       "  <thead>\n",
       "    <tr style=\"text-align: right;\">\n",
       "      <th></th>\n",
       "      <th>book_authors</th>\n",
       "      <th>book_desc</th>\n",
       "      <th>book_edition</th>\n",
       "      <th>book_format</th>\n",
       "      <th>book_isbn</th>\n",
       "      <th>book_pages</th>\n",
       "      <th>book_rating</th>\n",
       "      <th>book_rating_count</th>\n",
       "      <th>book_review_count</th>\n",
       "      <th>book_title</th>\n",
       "      <th>genres</th>\n",
       "      <th>image_url</th>\n",
       "    </tr>\n",
       "  </thead>\n",
       "  <tbody>\n",
       "    <tr>\n",
       "      <th>0</th>\n",
       "      <td>Kristin Hannah</td>\n",
       "      <td>Alaska, 1974.Unpredictable. Unforgiving. Untam...</td>\n",
       "      <td>NaN</td>\n",
       "      <td>Kindle Edition</td>\n",
       "      <td>NaN</td>\n",
       "      <td>435</td>\n",
       "      <td>4.33</td>\n",
       "      <td>146505</td>\n",
       "      <td>17438</td>\n",
       "      <td>The Great Alone</td>\n",
       "      <td>Fiction|Historical|Historical Fiction|Audioboo...</td>\n",
       "      <td>https://images.gr-assets.com/books/1501852423l...</td>\n",
       "    </tr>\n",
       "    <tr>\n",
       "      <th>1</th>\n",
       "      <td>Madeline Miller</td>\n",
       "      <td>In the house of Helios, god of the sun and mig...</td>\n",
       "      <td>NaN</td>\n",
       "      <td>Hardcover</td>\n",
       "      <td>9.780000e+12</td>\n",
       "      <td>393</td>\n",
       "      <td>4.34</td>\n",
       "      <td>61357</td>\n",
       "      <td>9369</td>\n",
       "      <td>Circe</td>\n",
       "      <td>Fantasy|Fiction|Fantasy|Mythology|Historical|H...</td>\n",
       "      <td>https://images.gr-assets.com/books/1508879575l...</td>\n",
       "    </tr>\n",
       "    <tr>\n",
       "      <th>2</th>\n",
       "      <td>Holly Black</td>\n",
       "      <td>Of course I want to be like them. They’re beau...</td>\n",
       "      <td>NaN</td>\n",
       "      <td>Hardcover</td>\n",
       "      <td>9.780000e+12</td>\n",
       "      <td>370</td>\n",
       "      <td>4.18</td>\n",
       "      <td>62897</td>\n",
       "      <td>11948</td>\n",
       "      <td>The Cruel Prince</td>\n",
       "      <td>Fantasy|Young Adult|Fairies|Fae</td>\n",
       "      <td>https://images.gr-assets.com/books/1493047153l...</td>\n",
       "    </tr>\n",
       "    <tr>\n",
       "      <th>3</th>\n",
       "      <td>A.J. Finn</td>\n",
       "      <td>Anna Fox lives alone—a recluse in her New York...</td>\n",
       "      <td>NaN</td>\n",
       "      <td>Kindle Edition</td>\n",
       "      <td>NaN</td>\n",
       "      <td>449</td>\n",
       "      <td>3.97</td>\n",
       "      <td>175678</td>\n",
       "      <td>20645</td>\n",
       "      <td>The Woman in the Window</td>\n",
       "      <td>Mystery|Thriller|Fiction|Suspense|Thriller|Mys...</td>\n",
       "      <td>https://images.gr-assets.com/books/1528225499l...</td>\n",
       "    </tr>\n",
       "    <tr>\n",
       "      <th>4</th>\n",
       "      <td>Tara Westover</td>\n",
       "      <td>An unforgettable memoir in the tradition of Th...</td>\n",
       "      <td>NaN</td>\n",
       "      <td>Hardcover</td>\n",
       "      <td>9.780000e+12</td>\n",
       "      <td>334</td>\n",
       "      <td>4.47</td>\n",
       "      <td>128337</td>\n",
       "      <td>16424</td>\n",
       "      <td>Educated</td>\n",
       "      <td>Nonfiction|Autobiography|Memoir|Biography</td>\n",
       "      <td>https://images.gr-assets.com/books/1506026635l...</td>\n",
       "    </tr>\n",
       "  </tbody>\n",
       "</table>\n",
       "</div>"
      ],
      "text/plain": [
       "      book_authors                                          book_desc  \\\n",
       "0   Kristin Hannah  Alaska, 1974.Unpredictable. Unforgiving. Untam...   \n",
       "1  Madeline Miller  In the house of Helios, god of the sun and mig...   \n",
       "2      Holly Black  Of course I want to be like them. They’re beau...   \n",
       "3        A.J. Finn  Anna Fox lives alone—a recluse in her New York...   \n",
       "4    Tara Westover  An unforgettable memoir in the tradition of Th...   \n",
       "\n",
       "  book_edition     book_format     book_isbn book_pages  book_rating  \\\n",
       "0          NaN  Kindle Edition           NaN       435          4.33   \n",
       "1          NaN       Hardcover  9.780000e+12       393          4.34   \n",
       "2          NaN       Hardcover  9.780000e+12       370          4.18   \n",
       "3          NaN  Kindle Edition           NaN       449          3.97   \n",
       "4          NaN       Hardcover  9.780000e+12       334          4.47   \n",
       "\n",
       "   book_rating_count  book_review_count               book_title  \\\n",
       "0             146505              17438          The Great Alone   \n",
       "1              61357               9369                    Circe   \n",
       "2              62897              11948         The Cruel Prince   \n",
       "3             175678              20645  The Woman in the Window   \n",
       "4             128337              16424                 Educated   \n",
       "\n",
       "                                              genres  \\\n",
       "0  Fiction|Historical|Historical Fiction|Audioboo...   \n",
       "1  Fantasy|Fiction|Fantasy|Mythology|Historical|H...   \n",
       "2                    Fantasy|Young Adult|Fairies|Fae   \n",
       "3  Mystery|Thriller|Fiction|Suspense|Thriller|Mys...   \n",
       "4          Nonfiction|Autobiography|Memoir|Biography   \n",
       "\n",
       "                                           image_url  \n",
       "0  https://images.gr-assets.com/books/1501852423l...  \n",
       "1  https://images.gr-assets.com/books/1508879575l...  \n",
       "2  https://images.gr-assets.com/books/1493047153l...  \n",
       "3  https://images.gr-assets.com/books/1528225499l...  \n",
       "4  https://images.gr-assets.com/books/1506026635l...  "
      ]
     },
     "execution_count": 233,
     "metadata": {},
     "output_type": "execute_result"
    }
   ],
   "source": [
    "book_data.head()"
   ]
  },
  {
   "cell_type": "code",
   "execution_count": 234,
   "metadata": {},
   "outputs": [
    {
     "data": {
      "text/plain": [
       "book_authors          object\n",
       "book_desc             object\n",
       "book_edition          object\n",
       "book_format           object\n",
       "book_isbn            float64\n",
       "book_pages            object\n",
       "book_rating          float64\n",
       "book_rating_count      int64\n",
       "book_review_count      int64\n",
       "book_title            object\n",
       "genres                object\n",
       "image_url             object\n",
       "dtype: object"
      ]
     },
     "execution_count": 234,
     "metadata": {},
     "output_type": "execute_result"
    }
   ],
   "source": [
    "book_data.dtypes"
   ]
  },
  {
   "cell_type": "code",
   "execution_count": 235,
   "metadata": {},
   "outputs": [
    {
     "name": "stdout",
     "output_type": "stream",
     "text": [
      "            book_authors                                          book_desc  \\\n",
      "15       Shantel Tessier  My name is Avery Decker, and my story isn’t fo...   \n",
      "20       Shantel Tessier  What do you do when the devil has you in his s...   \n",
      "142          Ella Fields  Callum Welsh perfected the art of hating me wh...   \n",
      "147         Harper Sloan  Ari Daniels didn’t count on her whole world tu...   \n",
      "178         Meghan Quinn  \"Good Morning Malibu, it’s another beautiful d...   \n",
      "...                  ...                                                ...   \n",
      "1019       C.L. Matthews  She’s forbidden.Too young, too pure, and not m...   \n",
      "1021  Jonathan Kellerman  A disturbing murder with shocking consequences...   \n",
      "1023          Ryan North  \"How to Invent Everything is such a cool book....   \n",
      "1097           Joy Ellis  The most difficult case of Detective Jackman’s...   \n",
      "1113     Waubgeshig Rice  With winter looming, a small northern Anishina...   \n",
      "\n",
      "     book_edition     book_format     book_isbn book_pages  book_rating  \\\n",
      "15            NaN             NaN           NaN        NaN         4.25   \n",
      "20            NaN             NaN           NaN        NaN         4.25   \n",
      "142   1st Edition           ebook           NaN        NaN         4.16   \n",
      "147           NaN             NaN           NaN        NaN         4.28   \n",
      "178           NaN             NaN           NaN        NaN         4.13   \n",
      "...           ...             ...           ...        ...          ...   \n",
      "1019          NaN  Kindle Edition           NaN        NaN         3.96   \n",
      "1021          NaN        Audio CD  9.780000e+12        NaN         3.99   \n",
      "1023          NaN           ebook  9.780000e+12        NaN         4.21   \n",
      "1097          NaN       Paperback           NaN        NaN         4.25   \n",
      "1113          NaN             NaN           NaN        NaN         4.06   \n",
      "\n",
      "      book_rating_count  book_review_count  \\\n",
      "15                  346                136   \n",
      "20                 1878                358   \n",
      "142                1766                429   \n",
      "147                2967                471   \n",
      "178                6067                935   \n",
      "...                 ...                ...   \n",
      "1019                284                135   \n",
      "1021               6567                569   \n",
      "1023                463                105   \n",
      "1097               6638                199   \n",
      "1113                365                 81   \n",
      "\n",
      "                                             book_title  \\\n",
      "15                                            Slaughter   \n",
      "20                                           I Dare You   \n",
      "142                                        Pretty Venom   \n",
      "147                                  Unconscious Hearts   \n",
      "178                                   Three Blind Dates   \n",
      "...                                                 ...   \n",
      "1019                                             Firsts   \n",
      "1021                                        Night Moves   \n",
      "1023  How to Invent Everything: A Survival Guide for...   \n",
      "1097                                    The Guilty Ones   \n",
      "1113                           Moon of the Crusted Snow   \n",
      "\n",
      "                                                 genres  \\\n",
      "15          Dark|Romance|Did Not Finish|Sociology|Abuse   \n",
      "20    Dark|Romance|Young Adult|High School|New Adult...   \n",
      "142   New Adult|Romance|Academic|College|Did Not Fin...   \n",
      "147   Romance|Romance|Contemporary Romance|Contempor...   \n",
      "178   Romance|Contemporary|Romance|Contemporary Roma...   \n",
      "...                                                 ...   \n",
      "1019                                                NaN   \n",
      "1021                           Mystery|Fiction|Thriller   \n",
      "1023  Nonfiction|Science|History|Humor|Science Ficti...   \n",
      "1097                           Mystery|Thriller|Fiction   \n",
      "1113  Fiction|Cultural|Canada|Science Fiction|Apocal...   \n",
      "\n",
      "                                              image_url  \n",
      "15    https://images.gr-assets.com/books/1539055928l...  \n",
      "20    https://images.gr-assets.com/books/1524238078l...  \n",
      "142   https://images.gr-assets.com/books/1531891988l...  \n",
      "147   https://images.gr-assets.com/books/1526669971l...  \n",
      "178   https://images.gr-assets.com/books/1513910226l...  \n",
      "...                                                 ...  \n",
      "1019  https://images.gr-assets.com/books/1525109417l...  \n",
      "1021  https://images.gr-assets.com/books/1498798526l...  \n",
      "1023  https://images.gr-assets.com/books/1521557569l...  \n",
      "1097  https://images.gr-assets.com/books/1520199174l...  \n",
      "1113  https://images.gr-assets.com/books/1520285991l...  \n",
      "\n",
      "[70 rows x 12 columns]\n"
     ]
    }
   ],
   "source": [
    "print(book_data[book_data['book_pages'].isnull()])"
   ]
  },
  {
   "cell_type": "code",
   "execution_count": 236,
   "metadata": {},
   "outputs": [],
   "source": [
    "book_data = book_data[book_data['book_pages'].notna()]"
   ]
  },
  {
   "cell_type": "code",
   "execution_count": 237,
   "metadata": {},
   "outputs": [
    {
     "data": {
      "text/html": [
       "<div>\n",
       "<style scoped>\n",
       "    .dataframe tbody tr th:only-of-type {\n",
       "        vertical-align: middle;\n",
       "    }\n",
       "\n",
       "    .dataframe tbody tr th {\n",
       "        vertical-align: top;\n",
       "    }\n",
       "\n",
       "    .dataframe thead th {\n",
       "        text-align: right;\n",
       "    }\n",
       "</style>\n",
       "<table border=\"1\" class=\"dataframe\">\n",
       "  <thead>\n",
       "    <tr style=\"text-align: right;\">\n",
       "      <th></th>\n",
       "      <th>book_authors</th>\n",
       "      <th>book_desc</th>\n",
       "      <th>book_edition</th>\n",
       "      <th>book_format</th>\n",
       "      <th>book_isbn</th>\n",
       "      <th>book_pages</th>\n",
       "      <th>book_rating</th>\n",
       "      <th>book_rating_count</th>\n",
       "      <th>book_review_count</th>\n",
       "      <th>book_title</th>\n",
       "      <th>genres</th>\n",
       "      <th>image_url</th>\n",
       "    </tr>\n",
       "  </thead>\n",
       "  <tbody>\n",
       "    <tr>\n",
       "      <th>0</th>\n",
       "      <td>Kristin Hannah</td>\n",
       "      <td>Alaska, 1974.Unpredictable. Unforgiving. Untam...</td>\n",
       "      <td>NaN</td>\n",
       "      <td>Kindle Edition</td>\n",
       "      <td>NaN</td>\n",
       "      <td>435</td>\n",
       "      <td>4.33</td>\n",
       "      <td>146505</td>\n",
       "      <td>17438</td>\n",
       "      <td>The Great Alone</td>\n",
       "      <td>Fiction|Historical|Historical Fiction|Audioboo...</td>\n",
       "      <td>https://images.gr-assets.com/books/1501852423l...</td>\n",
       "    </tr>\n",
       "    <tr>\n",
       "      <th>1</th>\n",
       "      <td>Madeline Miller</td>\n",
       "      <td>In the house of Helios, god of the sun and mig...</td>\n",
       "      <td>NaN</td>\n",
       "      <td>Hardcover</td>\n",
       "      <td>9.780000e+12</td>\n",
       "      <td>393</td>\n",
       "      <td>4.34</td>\n",
       "      <td>61357</td>\n",
       "      <td>9369</td>\n",
       "      <td>Circe</td>\n",
       "      <td>Fantasy|Fiction|Fantasy|Mythology|Historical|H...</td>\n",
       "      <td>https://images.gr-assets.com/books/1508879575l...</td>\n",
       "    </tr>\n",
       "    <tr>\n",
       "      <th>2</th>\n",
       "      <td>Holly Black</td>\n",
       "      <td>Of course I want to be like them. They’re beau...</td>\n",
       "      <td>NaN</td>\n",
       "      <td>Hardcover</td>\n",
       "      <td>9.780000e+12</td>\n",
       "      <td>370</td>\n",
       "      <td>4.18</td>\n",
       "      <td>62897</td>\n",
       "      <td>11948</td>\n",
       "      <td>The Cruel Prince</td>\n",
       "      <td>Fantasy|Young Adult|Fairies|Fae</td>\n",
       "      <td>https://images.gr-assets.com/books/1493047153l...</td>\n",
       "    </tr>\n",
       "    <tr>\n",
       "      <th>3</th>\n",
       "      <td>A.J. Finn</td>\n",
       "      <td>Anna Fox lives alone—a recluse in her New York...</td>\n",
       "      <td>NaN</td>\n",
       "      <td>Kindle Edition</td>\n",
       "      <td>NaN</td>\n",
       "      <td>449</td>\n",
       "      <td>3.97</td>\n",
       "      <td>175678</td>\n",
       "      <td>20645</td>\n",
       "      <td>The Woman in the Window</td>\n",
       "      <td>Mystery|Thriller|Fiction|Suspense|Thriller|Mys...</td>\n",
       "      <td>https://images.gr-assets.com/books/1528225499l...</td>\n",
       "    </tr>\n",
       "    <tr>\n",
       "      <th>4</th>\n",
       "      <td>Tara Westover</td>\n",
       "      <td>An unforgettable memoir in the tradition of Th...</td>\n",
       "      <td>NaN</td>\n",
       "      <td>Hardcover</td>\n",
       "      <td>9.780000e+12</td>\n",
       "      <td>334</td>\n",
       "      <td>4.47</td>\n",
       "      <td>128337</td>\n",
       "      <td>16424</td>\n",
       "      <td>Educated</td>\n",
       "      <td>Nonfiction|Autobiography|Memoir|Biography</td>\n",
       "      <td>https://images.gr-assets.com/books/1506026635l...</td>\n",
       "    </tr>\n",
       "    <tr>\n",
       "      <th>...</th>\n",
       "      <td>...</td>\n",
       "      <td>...</td>\n",
       "      <td>...</td>\n",
       "      <td>...</td>\n",
       "      <td>...</td>\n",
       "      <td>...</td>\n",
       "      <td>...</td>\n",
       "      <td>...</td>\n",
       "      <td>...</td>\n",
       "      <td>...</td>\n",
       "      <td>...</td>\n",
       "      <td>...</td>\n",
       "    </tr>\n",
       "    <tr>\n",
       "      <th>1136</th>\n",
       "      <td>Alyssa Brandon</td>\n",
       "      <td>A teen werewolf finally meets her destined sou...</td>\n",
       "      <td>NaN</td>\n",
       "      <td>Hardcover</td>\n",
       "      <td>9.780000e+12</td>\n",
       "      <td>304</td>\n",
       "      <td>3.33</td>\n",
       "      <td>359</td>\n",
       "      <td>88</td>\n",
       "      <td>Bound to You</td>\n",
       "      <td>Fantasy|Paranormal|Romance|Fantasy|Shapeshifte...</td>\n",
       "      <td>https://images.gr-assets.com/books/1508489753l...</td>\n",
       "    </tr>\n",
       "    <tr>\n",
       "      <th>1137</th>\n",
       "      <td>Crystal Hana Kim</td>\n",
       "      <td>An emotionally riveting debut novel about war,...</td>\n",
       "      <td>NaN</td>\n",
       "      <td>Hardcover</td>\n",
       "      <td>9.780000e+12</td>\n",
       "      <td>417</td>\n",
       "      <td>3.69</td>\n",
       "      <td>1255</td>\n",
       "      <td>259</td>\n",
       "      <td>If You Leave Me</td>\n",
       "      <td>Historical|Historical Fiction|Fiction|Historic...</td>\n",
       "      <td>https://images.gr-assets.com/books/1508962755l...</td>\n",
       "    </tr>\n",
       "    <tr>\n",
       "      <th>1138</th>\n",
       "      <td>Leslie  Cohen</td>\n",
       "      <td>This is the classic tale of boy meets girl: Gi...</td>\n",
       "      <td>NaN</td>\n",
       "      <td>Kindle Edition</td>\n",
       "      <td>NaN</td>\n",
       "      <td>320</td>\n",
       "      <td>3.40</td>\n",
       "      <td>1300</td>\n",
       "      <td>272</td>\n",
       "      <td>This Love Story Will Self-Destruct</td>\n",
       "      <td>Romance|Fiction|Womens Fiction|Chick Lit|Conte...</td>\n",
       "      <td>https://images.gr-assets.com/books/1503757123l...</td>\n",
       "    </tr>\n",
       "    <tr>\n",
       "      <th>1139</th>\n",
       "      <td>Sarah Beth Durst</td>\n",
       "      <td>The battle between vicious spirits and strong-...</td>\n",
       "      <td>NaN</td>\n",
       "      <td>Hardcover</td>\n",
       "      <td>9.780000e+12</td>\n",
       "      <td>419</td>\n",
       "      <td>3.86</td>\n",
       "      <td>907</td>\n",
       "      <td>205</td>\n",
       "      <td>The Queen of Sorrow</td>\n",
       "      <td>Fantasy|Young Adult|Adult</td>\n",
       "      <td>https://images.gr-assets.com/books/1513185111l...</td>\n",
       "    </tr>\n",
       "    <tr>\n",
       "      <th>1140</th>\n",
       "      <td>Nisha Sharma</td>\n",
       "      <td>Winnie Mehta was never really convinced that R...</td>\n",
       "      <td>NaN</td>\n",
       "      <td>Hardcover</td>\n",
       "      <td>9.780000e+12</td>\n",
       "      <td>304</td>\n",
       "      <td>3.64</td>\n",
       "      <td>1322</td>\n",
       "      <td>395</td>\n",
       "      <td>My So-Called Bollywood Life</td>\n",
       "      <td>Young Adult|Contemporary|Romance|Fiction|Young...</td>\n",
       "      <td>https://images.gr-assets.com/books/1510586092l...</td>\n",
       "    </tr>\n",
       "  </tbody>\n",
       "</table>\n",
       "<p>1071 rows × 12 columns</p>\n",
       "</div>"
      ],
      "text/plain": [
       "          book_authors                                          book_desc  \\\n",
       "0       Kristin Hannah  Alaska, 1974.Unpredictable. Unforgiving. Untam...   \n",
       "1      Madeline Miller  In the house of Helios, god of the sun and mig...   \n",
       "2          Holly Black  Of course I want to be like them. They’re beau...   \n",
       "3            A.J. Finn  Anna Fox lives alone—a recluse in her New York...   \n",
       "4        Tara Westover  An unforgettable memoir in the tradition of Th...   \n",
       "...                ...                                                ...   \n",
       "1136    Alyssa Brandon  A teen werewolf finally meets her destined sou...   \n",
       "1137  Crystal Hana Kim  An emotionally riveting debut novel about war,...   \n",
       "1138     Leslie  Cohen  This is the classic tale of boy meets girl: Gi...   \n",
       "1139  Sarah Beth Durst  The battle between vicious spirits and strong-...   \n",
       "1140      Nisha Sharma  Winnie Mehta was never really convinced that R...   \n",
       "\n",
       "     book_edition     book_format     book_isbn book_pages  book_rating  \\\n",
       "0             NaN  Kindle Edition           NaN       435          4.33   \n",
       "1             NaN       Hardcover  9.780000e+12       393          4.34   \n",
       "2             NaN       Hardcover  9.780000e+12       370          4.18   \n",
       "3             NaN  Kindle Edition           NaN       449          3.97   \n",
       "4             NaN       Hardcover  9.780000e+12       334          4.47   \n",
       "...           ...             ...           ...        ...          ...   \n",
       "1136          NaN       Hardcover  9.780000e+12       304          3.33   \n",
       "1137          NaN       Hardcover  9.780000e+12       417          3.69   \n",
       "1138          NaN  Kindle Edition           NaN       320          3.40   \n",
       "1139          NaN       Hardcover  9.780000e+12       419          3.86   \n",
       "1140          NaN       Hardcover  9.780000e+12       304          3.64   \n",
       "\n",
       "      book_rating_count  book_review_count  \\\n",
       "0                146505              17438   \n",
       "1                 61357               9369   \n",
       "2                 62897              11948   \n",
       "3                175678              20645   \n",
       "4                128337              16424   \n",
       "...                 ...                ...   \n",
       "1136                359                 88   \n",
       "1137               1255                259   \n",
       "1138               1300                272   \n",
       "1139                907                205   \n",
       "1140               1322                395   \n",
       "\n",
       "                              book_title  \\\n",
       "0                        The Great Alone   \n",
       "1                                  Circe   \n",
       "2                       The Cruel Prince   \n",
       "3                The Woman in the Window   \n",
       "4                               Educated   \n",
       "...                                  ...   \n",
       "1136                        Bound to You   \n",
       "1137                     If You Leave Me   \n",
       "1138  This Love Story Will Self-Destruct   \n",
       "1139                 The Queen of Sorrow   \n",
       "1140         My So-Called Bollywood Life   \n",
       "\n",
       "                                                 genres  \\\n",
       "0     Fiction|Historical|Historical Fiction|Audioboo...   \n",
       "1     Fantasy|Fiction|Fantasy|Mythology|Historical|H...   \n",
       "2                       Fantasy|Young Adult|Fairies|Fae   \n",
       "3     Mystery|Thriller|Fiction|Suspense|Thriller|Mys...   \n",
       "4             Nonfiction|Autobiography|Memoir|Biography   \n",
       "...                                                 ...   \n",
       "1136  Fantasy|Paranormal|Romance|Fantasy|Shapeshifte...   \n",
       "1137  Historical|Historical Fiction|Fiction|Historic...   \n",
       "1138  Romance|Fiction|Womens Fiction|Chick Lit|Conte...   \n",
       "1139                          Fantasy|Young Adult|Adult   \n",
       "1140  Young Adult|Contemporary|Romance|Fiction|Young...   \n",
       "\n",
       "                                              image_url  \n",
       "0     https://images.gr-assets.com/books/1501852423l...  \n",
       "1     https://images.gr-assets.com/books/1508879575l...  \n",
       "2     https://images.gr-assets.com/books/1493047153l...  \n",
       "3     https://images.gr-assets.com/books/1528225499l...  \n",
       "4     https://images.gr-assets.com/books/1506026635l...  \n",
       "...                                                 ...  \n",
       "1136  https://images.gr-assets.com/books/1508489753l...  \n",
       "1137  https://images.gr-assets.com/books/1508962755l...  \n",
       "1138  https://images.gr-assets.com/books/1503757123l...  \n",
       "1139  https://images.gr-assets.com/books/1513185111l...  \n",
       "1140  https://images.gr-assets.com/books/1510586092l...  \n",
       "\n",
       "[1071 rows x 12 columns]"
      ]
     },
     "execution_count": 237,
     "metadata": {},
     "output_type": "execute_result"
    }
   ],
   "source": [
    "book_data"
   ]
  },
  {
   "cell_type": "code",
   "execution_count": 238,
   "metadata": {},
   "outputs": [
    {
     "data": {
      "text/plain": [
       "0       435\n",
       "1       393\n",
       "2       370\n",
       "3       449\n",
       "4       334\n",
       "       ... \n",
       "1136    304\n",
       "1137    417\n",
       "1138    320\n",
       "1139    419\n",
       "1140    304\n",
       "Name: book_pages, Length: 1071, dtype: int64"
      ]
     },
     "execution_count": 238,
     "metadata": {},
     "output_type": "execute_result"
    }
   ],
   "source": [
    "book_data['book_pages'].astype(int)"
   ]
  },
  {
   "cell_type": "code",
   "execution_count": 239,
   "metadata": {},
   "outputs": [
    {
     "data": {
      "text/plain": [
       "book_authors          object\n",
       "book_desc             object\n",
       "book_edition          object\n",
       "book_format           object\n",
       "book_isbn            float64\n",
       "book_pages            object\n",
       "book_rating          float64\n",
       "book_rating_count      int64\n",
       "book_review_count      int64\n",
       "book_title            object\n",
       "genres                object\n",
       "image_url             object\n",
       "dtype: object"
      ]
     },
     "execution_count": 239,
     "metadata": {},
     "output_type": "execute_result"
    }
   ],
   "source": [
    "book_data.dtypes"
   ]
  },
  {
   "cell_type": "markdown",
   "metadata": {},
   "source": [
    "### Q6: What is the average number of pages? (5 points)"
   ]
  },
  {
   "cell_type": "code",
   "execution_count": 244,
   "metadata": {},
   "outputs": [
    {
     "data": {
      "text/plain": [
       "0       435.0\n",
       "1       393.0\n",
       "2       370.0\n",
       "3       449.0\n",
       "4       334.0\n",
       "        ...  \n",
       "1136    304.0\n",
       "1137    417.0\n",
       "1138    320.0\n",
       "1139    419.0\n",
       "1140    304.0\n",
       "Name: book_pages, Length: 1071, dtype: float64"
      ]
     },
     "execution_count": 244,
     "metadata": {},
     "output_type": "execute_result"
    }
   ],
   "source": [
    "book_page=book_data['book_pages'].astype(float)\n",
    "book_page"
   ]
  },
  {
   "cell_type": "code",
   "execution_count": 245,
   "metadata": {},
   "outputs": [
    {
     "data": {
      "text/plain": [
       "327.9000933706816"
      ]
     },
     "execution_count": 245,
     "metadata": {},
     "output_type": "execute_result"
    }
   ],
   "source": [
    "book_page.mean()"
   ]
  },
  {
   "cell_type": "markdown",
   "metadata": {},
   "source": [
    "### Q7: What is the median number of pages? (5 points)"
   ]
  },
  {
   "cell_type": "code",
   "execution_count": 246,
   "metadata": {},
   "outputs": [
    {
     "data": {
      "text/plain": [
       "328.0"
      ]
     },
     "execution_count": 246,
     "metadata": {},
     "output_type": "execute_result"
    }
   ],
   "source": [
    "book_page.median()"
   ]
  },
  {
   "cell_type": "markdown",
   "metadata": {},
   "source": [
    "### Q8: Does having more than 1 author result in a longer book on average? What is the average number of pages for books written by a single author? What is it for when there are at least two authors? (We will do more careful analysis for these types of questions later. For now, we just want you to practice using some DataFrame functionalities). (5 points)!"
   ]
  },
  {
   "cell_type": "code",
   "execution_count": null,
   "metadata": {},
   "outputs": [],
   "source": [
    "# 先暂停\n",
    "author_num"
   ]
  },
  {
   "cell_type": "code",
   "execution_count": 248,
   "metadata": {},
   "outputs": [
    {
     "ename": "TypeError",
     "evalue": "'>' not supported between instances of 'str' and 'int'",
     "output_type": "error",
     "traceback": [
      "\u001b[0;31m---------------------------------------------------------------------------\u001b[0m",
      "\u001b[0;31mTypeError\u001b[0m                                 Traceback (most recent call last)",
      "\u001b[0;32m<ipython-input-248-c665add805db>\u001b[0m in \u001b[0;36m<module>\u001b[0;34m\u001b[0m\n\u001b[1;32m      1\u001b[0m \u001b[0;32mfor\u001b[0m \u001b[0mauthor_num\u001b[0m \u001b[0;32min\u001b[0m \u001b[0mbook_data\u001b[0m\u001b[0;34m[\u001b[0m\u001b[0;34m\"book_pages\"\u001b[0m\u001b[0;34m]\u001b[0m\u001b[0;34m:\u001b[0m\u001b[0;34m\u001b[0m\u001b[0;34m\u001b[0m\u001b[0m\n\u001b[0;32m----> 2\u001b[0;31m     \u001b[0;32mif\u001b[0m \u001b[0mauthor_num\u001b[0m \u001b[0;34m>\u001b[0m \u001b[0;36m1\u001b[0m\u001b[0;34m:\u001b[0m\u001b[0;34m\u001b[0m\u001b[0;34m\u001b[0m\u001b[0m\n\u001b[0m\u001b[1;32m      3\u001b[0m         \u001b[0mprint\u001b[0m\u001b[0;34m(\u001b[0m\u001b[0mbook_data\u001b[0m\u001b[0;34m[\u001b[0m\u001b[0;34m\"book_pages\"\u001b[0m\u001b[0;34m]\u001b[0m\u001b[0;34m.\u001b[0m\u001b[0mmean\u001b[0m\u001b[0;34m(\u001b[0m\u001b[0;34m)\u001b[0m\u001b[0;34m)\u001b[0m\u001b[0;34m\u001b[0m\u001b[0;34m\u001b[0m\u001b[0m\n\u001b[1;32m      4\u001b[0m         \u001b[0mprint\u001b[0m\u001b[0;34m(\u001b[0m\u001b[0mbook_data\u001b[0m\u001b[0;34m[\u001b[0m\u001b[0;34m\"book_pages\"\u001b[0m\u001b[0;34m]\u001b[0m\u001b[0;34m.\u001b[0m\u001b[0mmedian\u001b[0m\u001b[0;34m(\u001b[0m\u001b[0;34m)\u001b[0m\u001b[0;34m)\u001b[0m\u001b[0;34m\u001b[0m\u001b[0;34m\u001b[0m\u001b[0m\n",
      "\u001b[0;31mTypeError\u001b[0m: '>' not supported between instances of 'str' and 'int'"
     ]
    }
   ],
   "source": [
    "for author_num in book_data[\"book_pages\"]:\n",
    "    if author_num > 1:\n",
    "        print(book_data[\"book_pages\"].mean())\n",
    "        print(book_data[\"book_pages\"].median())"
   ]
  },
  {
   "cell_type": "code",
   "execution_count": null,
   "metadata": {},
   "outputs": [],
   "source": []
  },
  {
   "cell_type": "markdown",
   "metadata": {},
   "source": [
    "## Ratings: (30 points)"
   ]
  },
  {
   "cell_type": "markdown",
   "metadata": {},
   "source": [
    "### Q9: How many books have at least a rating of 4.5? (2.5 points)"
   ]
  },
  {
   "cell_type": "code",
   "execution_count": null,
   "metadata": {},
   "outputs": [],
   "source": []
  },
  {
   "cell_type": "code",
   "execution_count": null,
   "metadata": {},
   "outputs": [],
   "source": []
  },
  {
   "cell_type": "markdown",
   "metadata": {},
   "source": [
    "### Q10: How about at most a rating of 4.25? (2.5 points)"
   ]
  },
  {
   "cell_type": "code",
   "execution_count": null,
   "metadata": {},
   "outputs": [],
   "source": []
  },
  {
   "cell_type": "code",
   "execution_count": null,
   "metadata": {},
   "outputs": [],
   "source": []
  },
  {
   "cell_type": "markdown",
   "metadata": {},
   "source": [
    "### Q11: Discretize the ratings. (1,2,3,4,5). (15 points)"
   ]
  },
  {
   "cell_type": "code",
   "execution_count": null,
   "metadata": {},
   "outputs": [],
   "source": []
  },
  {
   "cell_type": "code",
   "execution_count": null,
   "metadata": {},
   "outputs": [],
   "source": []
  },
  {
   "cell_type": "markdown",
   "metadata": {},
   "source": [
    "### Q12: For each of the discretized ratings (1,2,3,4,5), what is the average number of ratings? (5 points)"
   ]
  },
  {
   "cell_type": "code",
   "execution_count": null,
   "metadata": {},
   "outputs": [],
   "source": []
  },
  {
   "cell_type": "code",
   "execution_count": null,
   "metadata": {},
   "outputs": [],
   "source": []
  },
  {
   "cell_type": "markdown",
   "metadata": {},
   "source": [
    "### Q13: How about the average number of authors? (5 points)"
   ]
  },
  {
   "cell_type": "code",
   "execution_count": null,
   "metadata": {},
   "outputs": [],
   "source": []
  },
  {
   "cell_type": "code",
   "execution_count": null,
   "metadata": {},
   "outputs": [],
   "source": []
  },
  {
   "cell_type": "markdown",
   "metadata": {},
   "source": [
    "## Genres: (35 points)"
   ]
  },
  {
   "cell_type": "markdown",
   "metadata": {},
   "source": [
    "### Q14: Create a new DataFrame, exploding the rows with multiple genres such that it is one row per genre/book. (15 points)"
   ]
  },
  {
   "cell_type": "code",
   "execution_count": null,
   "metadata": {},
   "outputs": [],
   "source": []
  },
  {
   "cell_type": "code",
   "execution_count": null,
   "metadata": {},
   "outputs": [],
   "source": []
  },
  {
   "cell_type": "markdown",
   "metadata": {},
   "source": [
    "### Q15: What is the average rating of books from different genres? What is the median? (10 points)"
   ]
  },
  {
   "cell_type": "code",
   "execution_count": null,
   "metadata": {},
   "outputs": [],
   "source": []
  },
  {
   "cell_type": "code",
   "execution_count": null,
   "metadata": {},
   "outputs": [],
   "source": []
  },
  {
   "cell_type": "markdown",
   "metadata": {},
   "source": [
    "### Q16: What is the average length of books from different genres? What is the median? (10 points)"
   ]
  },
  {
   "cell_type": "code",
   "execution_count": null,
   "metadata": {},
   "outputs": [],
   "source": []
  },
  {
   "cell_type": "code",
   "execution_count": null,
   "metadata": {},
   "outputs": [],
   "source": []
  },
  {
   "cell_type": "code",
   "execution_count": null,
   "metadata": {},
   "outputs": [],
   "source": []
  }
 ],
 "metadata": {
  "kernelspec": {
   "display_name": "Python 3",
   "language": "python",
   "name": "python3"
  },
  "language_info": {
   "codemirror_mode": {
    "name": "ipython",
    "version": 3
   },
   "file_extension": ".py",
   "mimetype": "text/x-python",
   "name": "python",
   "nbconvert_exporter": "python",
   "pygments_lexer": "ipython3",
   "version": "3.8.3"
  }
 },
 "nbformat": 4,
 "nbformat_minor": 4
}
